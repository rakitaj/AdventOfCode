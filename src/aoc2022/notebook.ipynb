{
 "cells": [
  {
   "cell_type": "code",
   "execution_count": 5,
   "metadata": {},
   "outputs": [
    {
     "name": "stdout",
     "output_type": "stream",
     "text": [
      "['79', '98']\n"
     ]
    }
   ],
   "source": [
    "import re\n",
    "text = \"  Starting items: 79, 98\"\n",
    "r = re.findall(r\"(\\d+)\", text)\n",
    "print(r)"
   ]
  },
  {
   "cell_type": "code",
   "execution_count": 6,
   "metadata": {},
   "outputs": [
    {
     "data": {
      "text/plain": [
       "19"
      ]
     },
     "execution_count": 6,
     "metadata": {},
     "output_type": "execute_result"
    }
   ],
   "source": [
    "import re\n",
    "line = \"Test: divisible by 19\"\n",
    "m = re.search(r\"\\d+\", line)\n",
    "int(m.group(0))"
   ]
  }
 ],
 "metadata": {
  "kernelspec": {
   "display_name": ".venv",
   "language": "python",
   "name": "python3"
  },
  "language_info": {
   "codemirror_mode": {
    "name": "ipython",
    "version": 3
   },
   "file_extension": ".py",
   "mimetype": "text/x-python",
   "name": "python",
   "nbconvert_exporter": "python",
   "pygments_lexer": "ipython3",
   "version": "3.11.1"
  },
  "orig_nbformat": 4,
  "vscode": {
   "interpreter": {
    "hash": "998ee588c3fbcce9c301829ed4dc576282b59ccd11bce68a97769365107316fc"
   }
  }
 },
 "nbformat": 4,
 "nbformat_minor": 2
}

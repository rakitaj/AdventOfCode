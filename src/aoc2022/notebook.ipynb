{
 "cells": [
  {
   "cell_type": "code",
   "execution_count": 2,
   "metadata": {},
   "outputs": [
    {
     "name": "stdout",
     "output_type": "stream",
     "text": [
      "4\n"
     ]
    }
   ],
   "source": [
    "import re\n",
    "max_number = 0\n",
    "num_pattern = re.compile(\"(\\\\d+)\")\n",
    "all_matches = num_pattern.findall(\" 1   2   3  4\")\n",
    "if len(all_matches) > 0:\n",
    "    max_number = max(max_number, int(max(all_matches)))\n",
    "print(max_number)"
   ]
  },
  {
   "cell_type": "code",
   "execution_count": 11,
   "metadata": {},
   "outputs": [
    {
     "name": "stdout",
     "output_type": "stream",
     "text": [
      "None\n"
     ]
    }
   ],
   "source": [
    "import parse\n",
    "\n",
    "parse_cd = parse.compile(\"$ cd {directory}\")\n",
    "result = parse_cd.parse(\"$ cd /\")\n",
    "assert result[\"directory\"] == \"/\"\n",
    "\n",
    "parse_ls = parse.compile(\"$ ls\")\n",
    "result = parse_cd.parse(\"$ ls\")"
   ]
  }
 ],
 "metadata": {
  "kernelspec": {
   "display_name": ".venv",
   "language": "python",
   "name": "python3"
  },
  "language_info": {
   "codemirror_mode": {
    "name": "ipython",
    "version": 3
   },
   "file_extension": ".py",
   "mimetype": "text/x-python",
   "name": "python",
   "nbconvert_exporter": "python",
   "pygments_lexer": "ipython3",
   "version": "3.11.1"
  },
  "orig_nbformat": 4,
  "vscode": {
   "interpreter": {
    "hash": "c9033b6f005bfafbceb03b72a88597842ba5acaa6d9f6e5a54e78264e92a9681"
   }
  }
 },
 "nbformat": 4,
 "nbformat_minor": 2
}

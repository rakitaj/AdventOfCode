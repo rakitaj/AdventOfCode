{
 "cells": [
  {
   "cell_type": "code",
   "execution_count": 5,
   "metadata": {},
   "outputs": [
    {
     "name": "stdout",
     "output_type": "stream",
     "text": [
      "['79', '98']\n"
     ]
    }
   ],
   "source": [
    "import re\n",
    "text = \"  Starting items: 79, 98\"\n",
    "r = re.findall(r\"(\\d+)\", text)\n",
    "print(r)"
   ]
  },
  {
   "cell_type": "code",
   "execution_count": 3,
   "metadata": {},
   "outputs": [
    {
     "name": "stdout",
     "output_type": "stream",
     "text": [
      "{'a': 97, 'b': 98, 'c': 99, 'd': 100, 'e': 101, 'f': 102, 'g': 103, 'h': 104, 'i': 105, 'j': 106, 'k': 107, 'l': 108, 'm': 109, 'n': 110, 'o': 111, 'p': 112, 'q': 113, 'r': 114, 's': 115, 't': 116, 'u': 117, 'v': 118, 'w': 119, 'x': 120, 'y': 121, 'z': 122}\n",
      "26\n"
     ]
    }
   ],
   "source": [
    "char_map = dict()\n",
    "for c in \"abcdefghijklmnopqrstuvwxyz\":\n",
    "    char_map[c] = ord(c)\n",
    "print(char_map)\n",
    "print(len(char_map))"
   ]
  },
  {
   "cell_type": "code",
   "execution_count": 6,
   "metadata": {},
   "outputs": [
    {
     "data": {
      "text/plain": [
       "19"
      ]
     },
     "execution_count": 6,
     "metadata": {},
     "output_type": "execute_result"
    }
   ],
   "source": [
    "import re\n",
    "line = \"Test: divisible by 19\"\n",
    "m = re.search(r\"\\d+\", line)\n",
    "int(m.group(0))"
   ]
  }
 ],
 "metadata": {
  "kernelspec": {
   "display_name": ".venv",
   "language": "python",
   "name": "python3"
  },
  "language_info": {
   "codemirror_mode": {
    "name": "ipython",
    "version": 3
   },
   "file_extension": ".py",
   "mimetype": "text/x-python",
   "name": "python",
   "nbconvert_exporter": "python",
   "pygments_lexer": "ipython3",
   "version": "3.11.0"
  },
  "orig_nbformat": 4,
  "vscode": {
   "interpreter": {
    "hash": "a3157547a8c8b2e958b6685a106b4dfe87c96085a734c0fdfd1628a73fe5a7c1"
   }
  }
 },
 "nbformat": 4,
 "nbformat_minor": 2
}
